{
 "cells": [
  {
   "cell_type": "code",
   "execution_count": null,
   "metadata": {},
   "outputs": [],
   "source": [
    "'''\n",
    "Creates a subfolder with designated subfolders and geodatabase in a root directory. \n",
    "'''"
   ]
  },
  {
   "cell_type": "code",
   "execution_count": null,
   "metadata": {},
   "outputs": [],
   "source": [
    "'''\n",
    "Parameters\n",
    "'''\n",
    "\n",
    "import os \n",
    "\n",
    "root_dir    = r'C:\\DALE\\Personal\\Minnesota\\GIS Projects'\n",
    "projects    = ['ACS', 'Bikeways', 'Ecology', 'State Parks']\n",
    "sub_folders = ['Import Data', 'Output Data', 'Metadata']"
   ]
  },
  {
   "cell_type": "code",
   "execution_count": null,
   "metadata": {},
   "outputs": [],
   "source": [
    "'''\n",
    "This creates a project folder \n",
    "'''\n",
    "def create_project_dir(root_dir, project): \n",
    "    \n",
    "    # Create project directory \n",
    "    project_dir = os.path.join(root_dir, project)\n",
    "    \n",
    "    if os.path.exists(project_dir) == False: \n",
    "        os.mkdir(project_dir)\n",
    "        print(f'Created project directory: {project_dir}')\n",
    "        \n",
    "    return project_dir"
   ]
  },
  {
   "cell_type": "code",
   "execution_count": null,
   "metadata": {},
   "outputs": [],
   "source": [
    "'''\n",
    "This creates subfolders within a project folder \n",
    "'''\n",
    "def populate_project_dir(project_dir, sub_folders): \n",
    "    \n",
    "    # Create internal folders\n",
    "    for folder in sub_folders: \n",
    "        folder_path = os.path.join(project_dir, folder)\n",
    "        \n",
    "        if os.path.exists(folder_path) == False: \n",
    "            os.mkdir(folder_path)\n",
    "        \n",
    "    return project_dir"
   ]
  },
  {
   "cell_type": "code",
   "execution_count": null,
   "metadata": {},
   "outputs": [],
   "source": [
    "'''\n",
    "This creates a geodatabase for the project\n",
    "'''\n",
    "\n",
    "def create_project_geodatabase(project_dir): \n",
    "    \n",
    "    gdb_name = project_dir.split('\\\\')[-1].replace(\" \", \"\") + \".gdb\"\n",
    "    gdb_path = os.path.join(project_dir, gdb_name)\n",
    "    \n",
    "    if os.path.exists(gdb_path) == False: \n",
    "        gdb  = arcpy.management.CreateFileGDB(project_dir, gdb_name, 'CURRENT')\n",
    "        print(f'Created geodatabase: {gdb_path}')\n",
    "    \n",
    "    return gdb "
   ]
  },
  {
   "cell_type": "code",
   "execution_count": null,
   "metadata": {},
   "outputs": [],
   "source": [
    "'''\n",
    "This combines the above two functions. It allows the user to create multiple project folders at once. \n",
    "'''\n",
    "def populate_root_dir(root_dir, projects, sub_folders): \n",
    "    \n",
    "    # Iterate through project lists \n",
    "    for project in projects: \n",
    "        \n",
    "        # Create project folders \n",
    "        project_dir = create_project_dir(root_dir, project)\n",
    "        \n",
    "        # Create sub folders \n",
    "        project_dir = populate_project_dir(project_dir, sub_folders)\n",
    "        \n",
    "        # Create geodatabase \n",
    "        gdb         = create_project_geodatabase(project_dir)\n",
    "        \n",
    "    return root_dir, gdb"
   ]
  },
  {
   "cell_type": "code",
   "execution_count": null,
   "metadata": {},
   "outputs": [],
   "source": [
    "'''\n",
    "Run master function \n",
    "'''\n",
    "root_dir, gdb = populate_root_dir(root_dir, projects, sub_folders)"
   ]
  }
 ],
 "metadata": {
  "kernelspec": {
   "display_name": "ArcGISPro",
   "language": "Python",
   "name": "python3"
  },
  "language_info": {
   "file_extension": ".py",
   "name": "python",
   "version": "3"
  }
 },
 "nbformat": 4,
 "nbformat_minor": 2
}
