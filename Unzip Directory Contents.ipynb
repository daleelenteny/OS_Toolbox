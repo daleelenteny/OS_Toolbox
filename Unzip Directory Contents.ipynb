{
 "cells": [
  {
   "cell_type": "code",
   "execution_count": 10,
   "metadata": {},
   "outputs": [],
   "source": [
    "import os\n",
    "import zipfile\n",
    "from zipfile import ZipFile"
   ]
  },
  {
   "cell_type": "code",
   "execution_count": 12,
   "metadata": {},
   "outputs": [],
   "source": [
    "'''\n",
    "Identify zipped files in a directory and unzip them. \n",
    "'''\n",
    "def unzip_contents_of_dir(import_dir): \n",
    "    \n",
    "    # Iterate through import directory \n",
    "    for file in os.listdir(import_dir):\n",
    "\n",
    "        # Identify file path \n",
    "        file_path = os.path.join(import_dir, file)\n",
    "\n",
    "        # Unzip if needed \n",
    "        if file_path.endswith('.zip'): \n",
    "            with ZipFile(file_path, 'r') as zipped_file: \n",
    "                zipped_file.extractall(import_dir)\n",
    "                \n",
    "    return import_dir"
   ]
  },
  {
   "cell_type": "code",
   "execution_count": null,
   "metadata": {},
   "outputs": [],
   "source": [
    "'''\n",
    "Run \n",
    "'''\n",
    "\n",
    "import_dir = unzip_contents_of_dir(import_dir)"
   ]
  }
 ],
 "metadata": {
  "kernelspec": {
   "display_name": "ArcGISPro",
   "language": "Python",
   "name": "python3"
  },
  "language_info": {
   "file_extension": ".py",
   "name": "python",
   "version": "3"
  }
 },
 "nbformat": 4,
 "nbformat_minor": 2
}
